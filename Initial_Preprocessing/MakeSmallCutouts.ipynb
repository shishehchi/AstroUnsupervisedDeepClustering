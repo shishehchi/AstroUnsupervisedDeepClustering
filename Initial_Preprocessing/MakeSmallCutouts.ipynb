{
 "cells": [
  {
   "cell_type": "code",
   "execution_count": 1,
   "metadata": {},
   "outputs": [
    {
     "name": "stdout",
     "output_type": "stream",
     "text": [
      "Import Done\n"
     ]
    }
   ],
   "source": [
    "## the module that should be imported \n",
    "\n",
    "import numpy as np\n",
    "from astropy.io import fits\n",
    "import os \n",
    "from astropy.nddata.utils import Cutout2D \n",
    "import sys\n",
    "\n",
    "print ('Import Done')\n",
    "\n",
    "##----------------------\n"
   ]
  },
  {
   "cell_type": "markdown",
   "metadata": {},
   "source": [
    "Make sure that source extractor is installed in your system (some operating systems  use 'sextractor' instead 'sex').\n",
    "\n",
    "You can use any signal detector instead of sextractor provided that you can obtain the x and y coordinates of the detected sources. In other words we just need the x and y of the source to create a cutout image.\n",
    "\n",
    "In the cell below, set your path to the source extractor."
   ]
  },
  {
   "cell_type": "code",
   "execution_count": 2,
   "metadata": {},
   "outputs": [],
   "source": [
    "def Download_SE(image_id, Download_image=1,Extract_Sources=1):\n",
    "    if Download_image==1:\n",
    "        print ('Downloading the exposure (with 36 CCDs) ...')  # funpack is used to unzip the downloaded image\n",
    "        os.system('curl -L https://www.cadc-ccda.hia-iha.nrc-cnrc.gc.ca/data/pub/CFHT/'+image_id+' | funpack -O '+image_id+'.fits -')\n",
    "    print ('Download Done')    \n",
    "    if Extract_Sources==1:\n",
    "        print('Sources are being extracted....')\n",
    "        fits_ = fits.open(image_id+'.fits')\n",
    "        \n",
    "        path='<path to source extractor>'  \n",
    "        os.system(path+'sex  -c xymfhe.sex -FILTER Y -CATALOG_TYPE FITS_LDAC -CATALOG_NAME '+\n",
    "              image_id+'.ldac '+'  -PARAMETERS_NAME default.param '+image_id+'.fits')   \n",
    "        print ('Extract_Sources Done')"
   ]
  },
  {
   "cell_type": "markdown",
   "metadata": {},
   "source": [
    "choose an ID to make 3600 random cutouts from the exposure to make it as aninput for DESOM-1"
   ]
  },
  {
   "cell_type": "code",
   "execution_count": 3,
   "metadata": {},
   "outputs": [
    {
     "name": "stdout",
     "output_type": "stream",
     "text": [
      "Download Done\n"
     ]
    }
   ],
   "source": [
    "#image_id= '1778985p'  # RBT\n",
    "image_id= '1013974p'  # GOOD\n",
    "\n",
    "\n",
    "\n",
    "Download_SE(image_id,Download_image=0,Extract_Sources=0)  \n",
    "# print ('Download Done')\n",
    "##-------------------------"
   ]
  },
  {
   "cell_type": "markdown",
   "metadata": {},
   "source": [
    "The following cell uses `ldac` file which contains the coordinates of the detected sources.  "
   ]
  },
  {
   "cell_type": "code",
   "execution_count": 4,
   "metadata": {},
   "outputs": [
    {
     "name": "stdout",
     "output_type": "stream",
     "text": [
      " Detected sources in CCD 1 = 1470\n",
      " Detected sources in CCD 2 = 1626\n",
      " Detected sources in CCD 3 = 1804\n",
      " Detected sources in CCD 4 = 1485\n",
      " Detected sources in CCD 5 = 1588\n",
      " Detected sources in CCD 6 = 1662\n",
      " Detected sources in CCD 7 = 1518\n",
      " Detected sources in CCD 8 = 1625\n",
      " Detected sources in CCD 9 = 1553\n",
      " Detected sources in CCD 10 = 1473\n",
      " Detected sources in CCD 11 = 1554\n",
      " Detected sources in CCD 12 = 1581\n",
      " Detected sources in CCD 13 = 1570\n",
      " Detected sources in CCD 14 = 1565\n",
      " Detected sources in CCD 15 = 1423\n",
      " Detected sources in CCD 16 = 1465\n",
      " Detected sources in CCD 17 = 1624\n",
      " Detected sources in CCD 18 = 1529\n",
      " Detected sources in CCD 19 = 1611\n",
      " Detected sources in CCD 20 = 1695\n",
      " Detected sources in CCD 21 = 1543\n",
      " Detected sources in CCD 22 = 1584\n",
      " Detected sources in CCD 23 = 1600\n",
      " Detected sources in CCD 24 = 1538\n",
      " Detected sources in CCD 25 = 1436\n",
      " Detected sources in CCD 26 = 1532\n",
      " Detected sources in CCD 27 = 1456\n",
      " Detected sources in CCD 28 = 1615\n",
      " Detected sources in CCD 29 = 1503\n",
      " Detected sources in CCD 30 = 1671\n",
      " Detected sources in CCD 31 = 1774\n",
      " Detected sources in CCD 32 = 1861\n",
      " Detected sources in CCD 33 = 1636\n",
      " Detected sources in CCD 34 = 1762\n",
      " Detected sources in CCD 35 = 1553\n",
      " Detected sources in CCD 36 = 1740\n"
     ]
    }
   ],
   "source": [
    "## loading files\n",
    "fits_ = fits.open(image_id+'.fits')\n",
    "ldac = fits.open(image_id+'.ldac')\n",
    "\n",
    "\n",
    "n_objects=0\n",
    "tot_cat=[]\n",
    "n_dead_ccd=0\n",
    "tot_ccd=[]\n",
    "tot_images=[]\n",
    "stat_images=[]\n",
    "\n",
    "\n",
    "dx=32   \n",
    "dy=32  # dim cutout images\n",
    "\n",
    "\n",
    "sz_ldac= len(ldac)  ## check if any source found in the exposure\n",
    "if sz_ldac>1: \n",
    "    \n",
    "\n",
    "    for k2 in range(2,sz_ldac,2): \n",
    "        each_ccd=[]\n",
    "        tot_ccd=[]\n",
    "        ccd= k2//2  ## CCD number\n",
    "\n",
    "\n",
    "\n",
    "        try:  ## find the the size of each CCD\n",
    "            NAX1= ldac[k2-1].data[0][0][(np.where(['NAXIS1 ' in ldac[k2-1].data[0][0][k1] for k1 in range(len(ldac[k2-1].data[0][0]))])[0][0])]\n",
    "            NAX1= int(NAX1.split()[2])\n",
    "            NAX2= ldac[k2-1].data[0][0][(np.where(['NAXIS2 ' in ldac[k2-1].data[0][0][k1] for k1 in range(len(ldac[k2-1].data[0][0]))])[0][0])]\n",
    "            NAX2= int(NAX2.split()[2])\n",
    "        except:\n",
    "            NAX1=2112\n",
    "            NAX2=4644\n",
    "\n",
    "\n",
    "        xx=ldac[k2].data['X_IMAGE']     ## cutout small images, not from image borders   \n",
    "        yy=ldac[k2].data['Y_IMAGE']\n",
    "        n_se= np.where((xx>dx+5) & (yy>dy+5) & (xx<NAX1-dx-5) & (yy<NAX2-dy-5) )[0]\n",
    "        sz_se =len(n_se)\n",
    "        if (sz_se>0):\n",
    "\n",
    "\n",
    "            each_ccd=[]\n",
    "            n_objects +=len(xx)\n",
    "            print (' Detected sources in CCD '+str(ccd)+' =', len(xx))\n",
    "            sz_ccd = len(xx) ## The number of detected sources\n",
    "            xx=ldac[k2].data['X_IMAGE'][n_se] ## The X coordinate used to couout images           \n",
    "            yy=ldac[k2].data['Y_IMAGE'][n_se]  ## The Y coordinate used to couout images\n",
    "\n",
    "\n",
    "            \n",
    "            each_ccd.append([xx,yy])\n",
    "            each_ccd = np.array(each_ccd)\n",
    "            each_ccd= each_ccd.T\n",
    "            each_ccd = np.reshape(each_ccd,(np.shape(each_ccd)[0],np.shape(each_ccd)[1]))\n",
    "            n_sam= 100  # number of coutout samples from each CCD  \n",
    "            if (len(each_ccd)> n_sam): n_so = np.random.choice(range(len(each_ccd)),n_sam)\n",
    "            else: n_so = np.random.choice(range(len(each_ccd)),n_sam,replace=True)\n",
    "            sub_each_ccd = each_ccd[n_so]\n",
    "\n",
    "            # Replacing possiple  NaNs with the median\n",
    "            data_f= fits_[ccd].data\n",
    "            shape_data= np.shape(data_f)\n",
    "            data_f= np.reshape(data_f,-1)\n",
    "            n_nan=np.isnan(data_f)\n",
    "            med_n= np.median(data_f[~n_nan])\n",
    "            data_f[np.isnan(data_f)]=med_n\n",
    "\n",
    "            data_f= np.reshape(data_f,(shape_data))\n",
    "        \n",
    "        \n",
    "            for kp in range(len(sub_each_ccd)):\n",
    "                coor= sub_each_ccd[kp,0:]\n",
    "\n",
    "                \n",
    "                data = Cutout2D(data_f, coor, [dx,dy]).data  ## direct cut\n",
    "                min_data,max_data= np.percentile(data,[1,95])  # removing outliers\n",
    "                data[data>max_data]=max_data\n",
    "                data[data<min_data]=min_data    \n",
    "                data = (data-np.min(data))/(np.max(data)-np.min(data))  # minmax normalization\n",
    "                tot_images.append(data)   \n",
    "\n",
    "        else:   \n",
    "            n_dead_ccd +=1\n",
    "\n",
    "\n",
    "\n",
    "\n",
    "'''the output is:\n",
    "tot_images: 3600 random couout images form an exposure with 36 CCDs, 100 from each--\n",
    "n_objects: the total number of detected images that can be used as a weight in making histo-vectors--\n",
    "stat_images: (reserved) you may add additional statistical information from source extractor if needed\n",
    "n_dead_ccd: number of dead CCDs in an exposure based on 0 detected source\n",
    "'''\n",
    "out_tot=[tot_images,stat_images,n_objects,n_dead_ccd]  # \n",
    "\n",
    "## save the output as a Numpy file\n",
    "np.save(image_id,out_tot,'dtype=object')\n"
   ]
  },
  {
   "cell_type": "code",
   "execution_count": 5,
   "metadata": {},
   "outputs": [
    {
     "data": {
      "text/plain": [
       "<matplotlib.image.AxesImage at 0x2b9f01e89350>"
      ]
     },
     "execution_count": 5,
     "metadata": {},
     "output_type": "execute_result"
    },
    {
     "data": {
      "image/png": "[encoded data removed]",
      "text/plain": [
       "<Figure size 432x288 with 1 Axes>"
      ]
     },
     "metadata": {
      "needs_background": "light"
     },
     "output_type": "display_data"
    }
   ],
   "source": [
    "from matplotlib import pyplot as plt\n",
    "\n",
    "## show 4th cutout image of 3600\n",
    "img= out_tot[0][3]\n",
    "\n",
    "plt.imshow(img)\n"
   ]
  },
  {
   "cell_type": "code",
   "execution_count": null,
   "metadata": {},
   "outputs": [],
   "source": []
  }
 ],
 "metadata": {
  "kernelspec": {
   "display_name": "Python 3",
   "language": "python",
   "name": "python3"
  },
  "language_info": {
   "codemirror_mode": {
    "name": "ipython",
    "version": 3
   },
   "file_extension": ".py",
   "mimetype": "text/x-python",
   "name": "python",
   "nbconvert_exporter": "python",
   "pygments_lexer": "ipython3",
   "version": "3.7.4"
  }
 },
 "nbformat": 4,
 "nbformat_minor": 2
}
